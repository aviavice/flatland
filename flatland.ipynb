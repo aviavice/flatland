{
 "cells": [
  {
   "cell_type": "code",
   "execution_count": 18,
   "id": "7aca276f",
   "metadata": {},
   "outputs": [],
   "source": [
    "import gzip\n",
    "import pickle\n",
    "import numpy as np\n",
    "from tensorflow import keras\n",
    "import pandas as pd\n",
    "\n",
    "def evaluate(path, model):\n",
    "    X, y = pickle.load(gzip.open(path, 'rb'))\n",
    "    y[y != 0] -= 2\n",
    "    X = X / 255.\n",
    "    acc = np.mean(model(X).numpy().argmax(axis=1) == y)\n",
    "    return acc"
   ]
  },
  {
   "cell_type": "markdown",
   "id": "8cc4e00c",
   "metadata": {},
   "source": [
    "## Loading data"
   ]
  },
  {
   "cell_type": "code",
   "execution_count": 19,
   "id": "6cc540a1",
   "metadata": {
    "scrolled": true
   },
   "outputs": [],
   "source": [
    "path = 'flatland_train.data'\n",
    "X, y = pickle.load(gzip.open(path, 'rb')) #(10000, 50, 50)\n",
    "# data pre-proc\n",
    "y[y != 0] -= 2 # labels from 0 to 4\n",
    "X = X / 255.   # in range [0, 1]"
   ]
  },
  {
   "cell_type": "code",
   "execution_count": 20,
   "id": "adad1879",
   "metadata": {
    "scrolled": true
   },
   "outputs": [
    {
     "data": {
      "text/plain": [
       "(10000, 50, 50)"
      ]
     },
     "execution_count": 20,
     "metadata": {},
     "output_type": "execute_result"
    }
   ],
   "source": [
    "X.shape"
   ]
  },
  {
   "cell_type": "code",
   "execution_count": 21,
   "id": "9376f583",
   "metadata": {
    "scrolled": true
   },
   "outputs": [
    {
     "data": {
      "text/plain": [
       "(10000,)"
      ]
     },
     "execution_count": 21,
     "metadata": {},
     "output_type": "execute_result"
    }
   ],
   "source": [
    "y.shape"
   ]
  },
  {
   "cell_type": "markdown",
   "id": "90ce5105",
   "metadata": {},
   "source": [
    "Šiame data set yra 10000 paveiksliukų, kurie yra 50x50 pikselių dydžio."
   ]
  },
  {
   "cell_type": "code",
   "execution_count": 22,
   "id": "f864bbe8",
   "metadata": {},
   "outputs": [],
   "source": [
    "from collections import Counter"
   ]
  },
  {
   "cell_type": "code",
   "execution_count": 23,
   "id": "772e5f7b",
   "metadata": {},
   "outputs": [
    {
     "data": {
      "text/plain": [
       "Counter({2.0: 1868, 4.0: 1761, 3.0: 2137, 1.0: 2853, 0.0: 1381})"
      ]
     },
     "execution_count": 23,
     "metadata": {},
     "output_type": "execute_result"
    }
   ],
   "source": [
    "Counter(y)"
   ]
  },
  {
   "cell_type": "markdown",
   "id": "ab5bada9",
   "metadata": {},
   "source": [
    "Data set sudaro šios figūros, t.y. 5 klasės:\\\n",
    "Apskritimų: 1381 \\\n",
    "Trikampių: 2853 \\\n",
    "Keturkampių: 1868 \\\n",
    "Penkiakampių: 2137 \\\n",
    "Šešiakampių: 1761"
   ]
  },
  {
   "cell_type": "markdown",
   "id": "ac8a45f0",
   "metadata": {},
   "source": [
    "TODO: Split to train and test set"
   ]
  },
  {
   "cell_type": "code",
   "execution_count": 24,
   "id": "27bc9171",
   "metadata": {},
   "outputs": [],
   "source": [
    "from sklearn.model_selection import train_test_split\n",
    "X_train, X_test, y_train, y_test = train_test_split(X, y, random_state=42)"
   ]
  },
  {
   "cell_type": "markdown",
   "id": "67694e9c",
   "metadata": {},
   "source": [
    "Paveiksliukai iš kiekvienos klasės:"
   ]
  },
  {
   "cell_type": "code",
   "execution_count": 25,
   "id": "b62d715e",
   "metadata": {},
   "outputs": [],
   "source": [
    "import matplotlib.pyplot as plt"
   ]
  },
  {
   "cell_type": "code",
   "execution_count": 26,
   "id": "e7a19092",
   "metadata": {},
   "outputs": [
    {
     "data": {
      "image/png": "[encoded data removed]",
      "text/plain": [
       "<Figure size 432x288 with 5 Axes>"
      ]
     },
     "metadata": {
      "needs_background": "light"
     },
     "output_type": "display_data"
    }
   ],
   "source": [
    "for i in range(5):\n",
    "    idx = np.where(y_train == i)[0][0]\n",
    "    plt.subplot(1, 5, i+1)\n",
    "    plt.imshow(X_train[idx], cmap='gray', vmin=0, vmax=255)\n",
    "    plt.title(i)\n",
    "    plt.axis('off')"
   ]
  },
  {
   "cell_type": "code",
   "execution_count": null,
   "id": "266f2fe4",
   "metadata": {},
   "outputs": [],
   "source": []
  },
  {
   "cell_type": "code",
   "execution_count": null,
   "id": "5d585599",
   "metadata": {},
   "outputs": [],
   "source": []
  },
  {
   "cell_type": "markdown",
   "id": "29873629",
   "metadata": {},
   "source": [
    "## DNN"
   ]
  },
  {
   "cell_type": "code",
   "execution_count": 27,
   "id": "80444f78",
   "metadata": {
    "scrolled": true
   },
   "outputs": [
    {
     "name": "stdout",
     "output_type": "stream",
     "text": [
      "Model: \"sequential_2\"\n",
      "_________________________________________________________________\n",
      "Layer (type)                 Output Shape              Param #   \n",
      "=================================================================\n",
      "flatten_2 (Flatten)          (None, 2500)              0         \n",
      "_________________________________________________________________\n",
      "dense_6 (Dense)              (None, 20)                50020     \n",
      "_________________________________________________________________\n",
      "dense_7 (Dense)              (None, 5)                 105       \n",
      "=================================================================\n",
      "Total params: 50,125\n",
      "Trainable params: 50,125\n",
      "Non-trainable params: 0\n",
      "_________________________________________________________________\n"
     ]
    }
   ],
   "source": [
    "model = keras.models.Sequential()\n",
    "# All data pre-processing should be in keras model\n",
    "model.add(keras.layers.Flatten(input_shape=(50, 50))) # (10000, 2500)\n",
    "model.add(keras.layers.Dense(20, activation='relu'))\n",
    "model.add(keras.layers.Dense(5, activation='softmax'))\n",
    "model.compile(loss='sparse_categorical_crossentropy',\n",
    "              optimizer='sgd',\n",
    "              metrics=['accuracy'])\n",
    "# if you use categorical_crossentropy, then it expects one hot encoded output. Pridedu sparse\n",
    "\n",
    "model.summary()"
   ]
  },
  {
   "cell_type": "code",
   "execution_count": 28,
   "id": "3d87a7d1",
   "metadata": {},
   "outputs": [
    {
     "name": "stdout",
     "output_type": "stream",
     "text": [
      "Epoch 1/10\n",
      "313/313 [==============================] - 1s 2ms/step - loss: 1.4605 - accuracy: 0.3856\n",
      "Epoch 2/10\n",
      "313/313 [==============================] - 1s 2ms/step - loss: 1.2983 - accuracy: 0.4733\n",
      "Epoch 3/10\n",
      "313/313 [==============================] - 1s 2ms/step - loss: 1.2287 - accuracy: 0.4948\n",
      "Epoch 4/10\n",
      "313/313 [==============================] - 1s 2ms/step - loss: 1.1849 - accuracy: 0.5102\n",
      "Epoch 5/10\n",
      "313/313 [==============================] - 1s 2ms/step - loss: 1.1540 - accuracy: 0.5139\n",
      "Epoch 6/10\n",
      "313/313 [==============================] - 1s 2ms/step - loss: 1.1295 - accuracy: 0.5332\n",
      "Epoch 7/10\n",
      "313/313 [==============================] - 1s 2ms/step - loss: 1.1067 - accuracy: 0.5363\n",
      "Epoch 8/10\n",
      "313/313 [==============================] - 1s 2ms/step - loss: 1.0864 - accuracy: 0.5483\n",
      "Epoch 9/10\n",
      "313/313 [==============================] - 1s 2ms/step - loss: 1.0641 - accuracy: 0.5555\n",
      "Epoch 10/10\n",
      "313/313 [==============================] - 1s 2ms/step - loss: 1.0469 - accuracy: 0.5606\n"
     ]
    },
    {
     "data": {
      "text/plain": [
       "<keras.callbacks.History at 0x7f4588d6f520>"
      ]
     },
     "execution_count": 28,
     "metadata": {},
     "output_type": "execute_result"
    }
   ],
   "source": [
    "model.fit(X,y, epochs=10)"
   ]
  },
  {
   "cell_type": "code",
   "execution_count": 29,
   "id": "0489fa40",
   "metadata": {},
   "outputs": [],
   "source": [
    "model.save('model.h5')"
   ]
  },
  {
   "cell_type": "code",
   "execution_count": 36,
   "id": "ca30fd3c",
   "metadata": {},
   "outputs": [
    {
     "name": "stdout",
     "output_type": "stream",
     "text": [
      "Model: \"sequential_5\"\n",
      "_________________________________________________________________\n",
      "Layer (type)                 Output Shape              Param #   \n",
      "=================================================================\n",
      "flatten_5 (Flatten)          (None, 2500)              0         \n",
      "_________________________________________________________________\n",
      "dense_17 (Dense)             (None, 512)               1280512   \n",
      "_________________________________________________________________\n",
      "dropout_10 (Dropout)         (None, 512)               0         \n",
      "_________________________________________________________________\n",
      "dense_18 (Dense)             (None, 256)               131328    \n",
      "_________________________________________________________________\n",
      "dropout_11 (Dropout)         (None, 256)               0         \n",
      "_________________________________________________________________\n",
      "dense_19 (Dense)             (None, 128)               32896     \n",
      "_________________________________________________________________\n",
      "dropout_12 (Dropout)         (None, 128)               0         \n",
      "_________________________________________________________________\n",
      "dense_20 (Dense)             (None, 64)                8256      \n",
      "_________________________________________________________________\n",
      "dropout_13 (Dropout)         (None, 64)                0         \n",
      "_________________________________________________________________\n",
      "dense_21 (Dense)             (None, 10)                650       \n",
      "=================================================================\n",
      "Total params: 1,453,642\n",
      "Trainable params: 1,453,642\n",
      "Non-trainable params: 0\n",
      "_________________________________________________________________\n"
     ]
    }
   ],
   "source": [
    "model = keras.models.Sequential()\n",
    "model.add(keras.layers.Flatten(input_shape=(50,50)))\n",
    "model.add(keras.layers.Dense(512, activation='relu'))\n",
    "model.add(keras.layers.Dropout(0.2))\n",
    "model.add(keras.layers.Dense(256, activation='relu'))\n",
    "model.add(keras.layers.Dropout(0.2))\n",
    "model.add(keras.layers.Dense(128, activation='relu'))\n",
    "model.add(keras.layers.Dropout(0.2))\n",
    "model.add(keras.layers.Dense(64, activation='relu'))\n",
    "model.add(keras.layers.Dropout(0.2))\n",
    "model.add(keras.layers.Dense(10, activation='softmax'))\n",
    "model.compile(loss='sparse_categorical_crossentropy',\n",
    "             optimizer=keras.optimizers.Adam(learning_rate=3e-4),\n",
    "             metrics=['accuracy'])\n",
    "model.summary()"
   ]
  },
  {
   "cell_type": "code",
   "execution_count": 40,
   "id": "9ed3a26c",
   "metadata": {},
   "outputs": [
    {
     "name": "stdout",
     "output_type": "stream",
     "text": [
      "Epoch 1/30\n",
      "235/235 [==============================] - 1s 4ms/step - loss: 0.4509 - accuracy: 0.8155 - val_loss: 0.5841 - val_accuracy: 0.7768\n",
      "Epoch 2/30\n",
      "235/235 [==============================] - 1s 3ms/step - loss: 0.4386 - accuracy: 0.8213 - val_loss: 0.5897 - val_accuracy: 0.7708\n",
      "Epoch 3/30\n",
      "235/235 [==============================] - 1s 3ms/step - loss: 0.4438 - accuracy: 0.8151 - val_loss: 0.5481 - val_accuracy: 0.7908\n",
      "Epoch 4/30\n",
      "235/235 [==============================] - 1s 3ms/step - loss: 0.4110 - accuracy: 0.8296 - val_loss: 0.5837 - val_accuracy: 0.7876\n",
      "Epoch 5/30\n",
      "235/235 [==============================] - 1s 3ms/step - loss: 0.4076 - accuracy: 0.8344 - val_loss: 0.5908 - val_accuracy: 0.7960\n",
      "Epoch 6/30\n",
      "235/235 [==============================] - 1s 4ms/step - loss: 0.4077 - accuracy: 0.8339 - val_loss: 0.5584 - val_accuracy: 0.7908\n",
      "Epoch 7/30\n",
      "235/235 [==============================] - 1s 3ms/step - loss: 0.3896 - accuracy: 0.8389 - val_loss: 0.5643 - val_accuracy: 0.7996\n",
      "Epoch 8/30\n",
      "235/235 [==============================] - 1s 3ms/step - loss: 0.3855 - accuracy: 0.8381 - val_loss: 0.5484 - val_accuracy: 0.8104\n",
      "Epoch 9/30\n",
      "235/235 [==============================] - 1s 3ms/step - loss: 0.3671 - accuracy: 0.8485 - val_loss: 0.5601 - val_accuracy: 0.7956\n",
      "Epoch 10/30\n",
      "235/235 [==============================] - 1s 3ms/step - loss: 0.3577 - accuracy: 0.8568 - val_loss: 0.5402 - val_accuracy: 0.8120\n",
      "Epoch 11/30\n",
      "235/235 [==============================] - 1s 3ms/step - loss: 0.3479 - accuracy: 0.8560 - val_loss: 0.5232 - val_accuracy: 0.8156\n",
      "Epoch 12/30\n",
      "235/235 [==============================] - 1s 3ms/step - loss: 0.3328 - accuracy: 0.8643 - val_loss: 0.5641 - val_accuracy: 0.8072\n",
      "Epoch 13/30\n",
      "235/235 [==============================] - 1s 3ms/step - loss: 0.3279 - accuracy: 0.8656 - val_loss: 0.5229 - val_accuracy: 0.8236\n",
      "Epoch 14/30\n",
      "235/235 [==============================] - 1s 3ms/step - loss: 0.3229 - accuracy: 0.8640 - val_loss: 0.5063 - val_accuracy: 0.8268\n",
      "Epoch 15/30\n",
      "235/235 [==============================] - 1s 3ms/step - loss: 0.3234 - accuracy: 0.8659 - val_loss: 0.5189 - val_accuracy: 0.8340\n",
      "Epoch 16/30\n",
      "235/235 [==============================] - 1s 3ms/step - loss: 0.2943 - accuracy: 0.8851 - val_loss: 0.5913 - val_accuracy: 0.8124\n",
      "Epoch 17/30\n",
      "235/235 [==============================] - 1s 3ms/step - loss: 0.3017 - accuracy: 0.8751 - val_loss: 0.5032 - val_accuracy: 0.8404\n",
      "Epoch 18/30\n",
      "235/235 [==============================] - 1s 3ms/step - loss: 0.2871 - accuracy: 0.8840 - val_loss: 0.5381 - val_accuracy: 0.8260\n",
      "Epoch 19/30\n",
      "235/235 [==============================] - 1s 3ms/step - loss: 0.2861 - accuracy: 0.8845 - val_loss: 0.5569 - val_accuracy: 0.8320\n",
      "Epoch 20/30\n",
      "235/235 [==============================] - 1s 3ms/step - loss: 0.2633 - accuracy: 0.8924 - val_loss: 0.5226 - val_accuracy: 0.8436\n",
      "Epoch 21/30\n",
      "235/235 [==============================] - 1s 3ms/step - loss: 0.2629 - accuracy: 0.8929 - val_loss: 0.4893 - val_accuracy: 0.8564\n",
      "Epoch 22/30\n",
      "235/235 [==============================] - 1s 3ms/step - loss: 0.2451 - accuracy: 0.8997 - val_loss: 0.5301 - val_accuracy: 0.8532\n",
      "Epoch 23/30\n",
      "235/235 [==============================] - 1s 3ms/step - loss: 0.2469 - accuracy: 0.9008 - val_loss: 0.5386 - val_accuracy: 0.8448\n",
      "Epoch 24/30\n",
      "235/235 [==============================] - 1s 3ms/step - loss: 0.2456 - accuracy: 0.9047 - val_loss: 0.5164 - val_accuracy: 0.8576\n",
      "Epoch 25/30\n",
      "235/235 [==============================] - 1s 3ms/step - loss: 0.2259 - accuracy: 0.9120 - val_loss: 0.5233 - val_accuracy: 0.8568\n",
      "Epoch 26/30\n",
      "235/235 [==============================] - 1s 3ms/step - loss: 0.2212 - accuracy: 0.9119 - val_loss: 0.5593 - val_accuracy: 0.8528\n",
      "Epoch 27/30\n",
      "235/235 [==============================] - 1s 3ms/step - loss: 0.2358 - accuracy: 0.9080 - val_loss: 0.5147 - val_accuracy: 0.8488\n",
      "Epoch 28/30\n",
      "235/235 [==============================] - 1s 3ms/step - loss: 0.2094 - accuracy: 0.9201 - val_loss: 0.4813 - val_accuracy: 0.8696\n",
      "Epoch 29/30\n",
      "235/235 [==============================] - 1s 3ms/step - loss: 0.2070 - accuracy: 0.9197 - val_loss: 0.4862 - val_accuracy: 0.8760\n",
      "Epoch 30/30\n",
      "235/235 [==============================] - 1s 3ms/step - loss: 0.2026 - accuracy: 0.9248 - val_loss: 0.4832 - val_accuracy: 0.8716\n"
     ]
    },
    {
     "data": {
      "text/plain": [
       "<AxesSubplot:>"
      ]
     },
     "execution_count": 40,
     "metadata": {},
     "output_type": "execute_result"
    },
    {
     "data": {
      "image/png": "[encoded data removed]",
      "text/plain": [
       "<Figure size 432x288 with 1 Axes>"
      ]
     },
     "metadata": {
      "needs_background": "light"
     },
     "output_type": "display_data"
    }
   ],
   "source": [
    "loss = model.fit(X_train, y_train, validation_data=(X_test, y_test), epochs=30)\n",
    "pd.DataFrame(loss.history)[['loss','val_loss']].plot()"
   ]
  },
  {
   "cell_type": "code",
   "execution_count": 41,
   "id": "4d5400fb",
   "metadata": {},
   "outputs": [],
   "source": [
    "model.save('model1.h5')"
   ]
  },
  {
   "cell_type": "markdown",
   "id": "521cebc6",
   "metadata": {},
   "source": [
    "## Testing models"
   ]
  },
  {
   "cell_type": "code",
   "execution_count": 33,
   "id": "9aceeadc",
   "metadata": {},
   "outputs": [
    {
     "data": {
      "text/plain": [
       "0.5798"
      ]
     },
     "execution_count": 33,
     "metadata": {},
     "output_type": "execute_result"
    }
   ],
   "source": [
    "model = keras.models.load_model('model.h5')\n",
    "evaluate('flatland_train.data', model)"
   ]
  },
  {
   "cell_type": "code",
   "execution_count": 42,
   "id": "a30963b0",
   "metadata": {},
   "outputs": [
    {
     "data": {
      "text/plain": [
       "0.94"
      ]
     },
     "execution_count": 42,
     "metadata": {},
     "output_type": "execute_result"
    }
   ],
   "source": [
    "model = keras.models.load_model('model1.h5')\n",
    "evaluate('flatland_train.data', model)"
   ]
  },
  {
   "cell_type": "code",
   "execution_count": null,
   "id": "8581f14b",
   "metadata": {},
   "outputs": [],
   "source": []
  },
  {
   "cell_type": "code",
   "execution_count": null,
   "id": "13ab175e",
   "metadata": {},
   "outputs": [],
   "source": []
  }
 ],
 "metadata": {
  "kernelspec": {
   "display_name": "Python 3 (ipykernel)",
   "language": "python",
   "name": "python3"
  },
  "language_info": {
   "codemirror_mode": {
    "name": "ipython",
    "version": 3
   },
   "file_extension": ".py",
   "mimetype": "text/x-python",
   "name": "python",
   "nbconvert_exporter": "python",
   "pygments_lexer": "ipython3",
   "version": "3.8.10"
  }
 },
 "nbformat": 4,
 "nbformat_minor": 5
}
