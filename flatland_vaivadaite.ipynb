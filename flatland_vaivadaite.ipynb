{
 "cells": [
  {
   "cell_type": "code",
   "execution_count": 109,
   "id": "1b535af0",
   "metadata": {},
   "outputs": [],
   "source": [
    "import gzip\n",
    "import pickle\n",
    "import numpy as np\n",
    "from tensorflow import keras\n",
    "import pandas as pd"
   ]
  },
  {
   "cell_type": "code",
   "execution_count": 110,
   "id": "770d3d3b",
   "metadata": {},
   "outputs": [],
   "source": [
    "from tensorflow.keras.layers import Conv2D, Dense"
   ]
  },
  {
   "cell_type": "markdown",
   "id": "8cc4e00c",
   "metadata": {},
   "source": [
    "## Loading data"
   ]
  },
  {
   "cell_type": "code",
   "execution_count": 111,
   "id": "6cc540a1",
   "metadata": {
    "scrolled": true
   },
   "outputs": [],
   "source": [
    "path = 'flatland_train.data'\n",
    "X, y = pickle.load(gzip.open(path, 'rb')) #(10000, 50, 50)\n",
    "# data pre-proc\n",
    "y[y != 0] -= 2 # labels from 0 to 4\n",
    "X = X.reshape(X.shape[0], 50, 50, 1) / 255   # in range [0, 1]"
   ]
  },
  {
   "cell_type": "code",
   "execution_count": 112,
   "id": "adad1879",
   "metadata": {
    "scrolled": true
   },
   "outputs": [
    {
     "data": {
      "text/plain": [
       "(10000, 50, 50, 1)"
      ]
     },
     "execution_count": 112,
     "metadata": {},
     "output_type": "execute_result"
    }
   ],
   "source": [
    "X.shape"
   ]
  },
  {
   "cell_type": "code",
   "execution_count": 113,
   "id": "9376f583",
   "metadata": {
    "scrolled": true
   },
   "outputs": [
    {
     "data": {
      "text/plain": [
       "(10000,)"
      ]
     },
     "execution_count": 113,
     "metadata": {},
     "output_type": "execute_result"
    }
   ],
   "source": [
    "y.shape"
   ]
  },
  {
   "cell_type": "markdown",
   "id": "90ce5105",
   "metadata": {},
   "source": [
    "Šiame data set yra 10000 paveiksliukų, kurie yra 50x50 pikselių dydžio."
   ]
  },
  {
   "cell_type": "code",
   "execution_count": 114,
   "id": "f864bbe8",
   "metadata": {},
   "outputs": [],
   "source": [
    "from collections import Counter"
   ]
  },
  {
   "cell_type": "code",
   "execution_count": 115,
   "id": "772e5f7b",
   "metadata": {},
   "outputs": [
    {
     "data": {
      "text/plain": [
       "Counter({2.0: 1868, 4.0: 1761, 3.0: 2137, 1.0: 2853, 0.0: 1381})"
      ]
     },
     "execution_count": 115,
     "metadata": {},
     "output_type": "execute_result"
    }
   ],
   "source": [
    "Counter(y)"
   ]
  },
  {
   "cell_type": "markdown",
   "id": "ab5bada9",
   "metadata": {},
   "source": [
    "Data set sudaro šios figūros, t.y. 5 klasės:\\\n",
    "Apskritimų: 1381 \\\n",
    "Trikampių: 2853 \\\n",
    "Keturkampių: 1868 \\\n",
    "Penkiakampių: 2137 \\\n",
    "Šešiakampių: 1761"
   ]
  },
  {
   "cell_type": "markdown",
   "id": "a7eeb19d",
   "metadata": {},
   "source": [
    "# DNN"
   ]
  },
  {
   "cell_type": "markdown",
   "id": "f779d34e",
   "metadata": {},
   "source": [
    "#### pavyzdys"
   ]
  },
  {
   "cell_type": "code",
   "execution_count": 116,
   "id": "b4872622",
   "metadata": {},
   "outputs": [
    {
     "name": "stdout",
     "output_type": "stream",
     "text": [
      "Model: \"sequential_14\"\n",
      "_________________________________________________________________\n",
      "Layer (type)                 Output Shape              Param #   \n",
      "=================================================================\n",
      "flatten_14 (Flatten)         (None, 2500)              0         \n",
      "_________________________________________________________________\n",
      "dense_39 (Dense)             (None, 20)                50020     \n",
      "_________________________________________________________________\n",
      "dense_40 (Dense)             (None, 5)                 105       \n",
      "=================================================================\n",
      "Total params: 50,125\n",
      "Trainable params: 50,125\n",
      "Non-trainable params: 0\n",
      "_________________________________________________________________\n"
     ]
    }
   ],
   "source": [
    "model = keras.models.Sequential()\n",
    "# All data pre-processing should be in keras model\n",
    "model.add(keras.layers.Flatten(input_shape=[50, 50])) # (10000, 2500)\n",
    "model.add(keras.layers.Dense(20, activation='relu'))\n",
    "model.add(keras.layers.Dense(5, activation='softmax'))\n",
    "model.compile(loss='sparse_categorical_crossentropy',\n",
    "              optimizer='sgd',\n",
    "              metrics=['accuracy'])\n",
    "# if you use categorical_crossentropy, then it expects one hot encoded output. Pridedu sparse\n",
    "model.summary()"
   ]
  },
  {
   "cell_type": "code",
   "execution_count": 117,
   "id": "1a39db65",
   "metadata": {
    "scrolled": true
   },
   "outputs": [
    {
     "name": "stdout",
     "output_type": "stream",
     "text": [
      "Epoch 1/20\n",
      "313/313 [==============================] - 1s 3ms/step - loss: 1.5010 - accuracy: 0.3874\n",
      "Epoch 2/20\n",
      "313/313 [==============================] - 1s 3ms/step - loss: 1.3505 - accuracy: 0.4525\n",
      "Epoch 3/20\n",
      "313/313 [==============================] - 1s 3ms/step - loss: 1.2601 - accuracy: 0.4794\n",
      "Epoch 4/20\n",
      "313/313 [==============================] - 1s 3ms/step - loss: 1.2067 - accuracy: 0.5029\n",
      "Epoch 5/20\n",
      "313/313 [==============================] - 1s 3ms/step - loss: 1.1708 - accuracy: 0.5107\n",
      "Epoch 6/20\n",
      "313/313 [==============================] - 1s 3ms/step - loss: 1.1382 - accuracy: 0.5254\n",
      "Epoch 7/20\n",
      "313/313 [==============================] - 1s 3ms/step - loss: 1.1110 - accuracy: 0.5364\n",
      "Epoch 8/20\n",
      "313/313 [==============================] - 1s 3ms/step - loss: 1.0868 - accuracy: 0.5485\n",
      "Epoch 9/20\n",
      "313/313 [==============================] - 1s 3ms/step - loss: 1.0640 - accuracy: 0.5592\n",
      "Epoch 10/20\n",
      "313/313 [==============================] - 1s 3ms/step - loss: 1.0432 - accuracy: 0.5710\n",
      "Epoch 11/20\n",
      "313/313 [==============================] - 1s 3ms/step - loss: 1.0207 - accuracy: 0.5811\n",
      "Epoch 12/20\n",
      "313/313 [==============================] - 1s 3ms/step - loss: 1.0027 - accuracy: 0.5901\n",
      "Epoch 13/20\n",
      "313/313 [==============================] - 1s 3ms/step - loss: 0.9839 - accuracy: 0.5994\n",
      "Epoch 14/20\n",
      "313/313 [==============================] - 1s 3ms/step - loss: 0.9672 - accuracy: 0.6081\n",
      "Epoch 15/20\n",
      "313/313 [==============================] - 1s 3ms/step - loss: 0.9528 - accuracy: 0.6180\n",
      "Epoch 16/20\n",
      "313/313 [==============================] - 1s 3ms/step - loss: 0.9362 - accuracy: 0.6245\n",
      "Epoch 17/20\n",
      "313/313 [==============================] - 1s 3ms/step - loss: 0.9217 - accuracy: 0.6300\n",
      "Epoch 18/20\n",
      "313/313 [==============================] - 1s 3ms/step - loss: 0.9080 - accuracy: 0.6390\n",
      "Epoch 19/20\n",
      "313/313 [==============================] - 1s 3ms/step - loss: 0.8964 - accuracy: 0.6382\n",
      "Epoch 20/20\n",
      "313/313 [==============================] - 1s 3ms/step - loss: 0.8821 - accuracy: 0.6498\n"
     ]
    }
   ],
   "source": [
    "loss = model.fit(X,y, epochs=20)"
   ]
  },
  {
   "cell_type": "code",
   "execution_count": 118,
   "id": "a99c5502",
   "metadata": {},
   "outputs": [],
   "source": [
    "model.save('model.h5')"
   ]
  },
  {
   "cell_type": "markdown",
   "id": "ac8a45f0",
   "metadata": {},
   "source": [
    "TODO: Split to train and test set"
   ]
  },
  {
   "cell_type": "code",
   "execution_count": 119,
   "id": "054527b2",
   "metadata": {},
   "outputs": [],
   "source": [
    "from sklearn.model_selection import train_test_split"
   ]
  },
  {
   "cell_type": "code",
   "execution_count": 120,
   "id": "27bc9171",
   "metadata": {},
   "outputs": [],
   "source": [
    "X_train, X_test, y_train, y_test = train_test_split(X, y, random_state=42)"
   ]
  },
  {
   "cell_type": "code",
   "execution_count": 121,
   "id": "b1253378",
   "metadata": {},
   "outputs": [
    {
     "data": {
      "text/plain": [
       "(7500, 50, 50, 1)"
      ]
     },
     "execution_count": 121,
     "metadata": {},
     "output_type": "execute_result"
    }
   ],
   "source": [
    "X_train.shape"
   ]
  },
  {
   "cell_type": "code",
   "execution_count": 122,
   "id": "b0e3c520",
   "metadata": {},
   "outputs": [
    {
     "data": {
      "text/plain": [
       "(2500, 50, 50, 1)"
      ]
     },
     "execution_count": 122,
     "metadata": {},
     "output_type": "execute_result"
    }
   ],
   "source": [
    "X_test.shape"
   ]
  },
  {
   "cell_type": "markdown",
   "id": "fa333443",
   "metadata": {},
   "source": [
    "Train dataset: 7500\\\n",
    "Test dataset: 2500"
   ]
  },
  {
   "cell_type": "markdown",
   "id": "647184d9",
   "metadata": {},
   "source": [
    "Paveiksliukai iš kiekvienos klasės:"
   ]
  },
  {
   "cell_type": "code",
   "execution_count": 123,
   "id": "b62d715e",
   "metadata": {},
   "outputs": [],
   "source": [
    "import matplotlib.pyplot as plt"
   ]
  },
  {
   "cell_type": "code",
   "execution_count": 124,
   "id": "e7a19092",
   "metadata": {},
   "outputs": [
    {
     "data": {
      "image/png": "[encoded data removed]",
      "text/plain": [
       "<Figure size 432x288 with 5 Axes>"
      ]
     },
     "metadata": {
      "needs_background": "light"
     },
     "output_type": "display_data"
    }
   ],
   "source": [
    "for i in range(5):\n",
    "    idx = np.where(y_train == i)[0][0]\n",
    "    plt.subplot(1, 5, i+1)\n",
    "    plt.imshow(X_train[idx], cmap='gray', vmin=0, vmax=1)\n",
    "    plt.title(i)\n",
    "    plt.axis('off')"
   ]
  },
  {
   "cell_type": "markdown",
   "id": "f99f9946",
   "metadata": {},
   "source": [
    "#### 1st try"
   ]
  },
  {
   "cell_type": "markdown",
   "id": "88f29b89",
   "metadata": {},
   "source": [
    "Pagrinde naudojau idėjas, panaudotas fashion MNIST užduotyje. Gavau pakankamai neblogą rezultatą, tačiau ne tokį gerą, kokį galima gauti naudojant CNN "
   ]
  },
  {
   "cell_type": "code",
   "execution_count": 125,
   "id": "ca30fd3c",
   "metadata": {},
   "outputs": [
    {
     "name": "stdout",
     "output_type": "stream",
     "text": [
      "Model: \"sequential_15\"\n",
      "_________________________________________________________________\n",
      "Layer (type)                 Output Shape              Param #   \n",
      "=================================================================\n",
      "flatten_15 (Flatten)         (None, 2500)              0         \n",
      "_________________________________________________________________\n",
      "dense_41 (Dense)             (None, 256)               640256    \n",
      "_________________________________________________________________\n",
      "dropout_9 (Dropout)          (None, 256)               0         \n",
      "_________________________________________________________________\n",
      "dense_42 (Dense)             (None, 128)               32896     \n",
      "_________________________________________________________________\n",
      "dropout_10 (Dropout)         (None, 128)               0         \n",
      "_________________________________________________________________\n",
      "dense_43 (Dense)             (None, 64)                8256      \n",
      "_________________________________________________________________\n",
      "dropout_11 (Dropout)         (None, 64)                0         \n",
      "_________________________________________________________________\n",
      "dense_44 (Dense)             (None, 5)                 325       \n",
      "=================================================================\n",
      "Total params: 681,733\n",
      "Trainable params: 681,733\n",
      "Non-trainable params: 0\n",
      "_________________________________________________________________\n"
     ]
    }
   ],
   "source": [
    "model1 = keras.models.Sequential()\n",
    "model1.add(keras.layers.Flatten(input_shape=[50,50]))\n",
    "model1.add(keras.layers.Dense(256, activation='relu'))\n",
    "model1.add(keras.layers.Dropout(0.5))\n",
    "model1.add(keras.layers.Dense(128, activation='relu'))\n",
    "model1.add(keras.layers.Dropout(0.5))\n",
    "model1.add(keras.layers.Dense(64, activation='relu'))\n",
    "model1.add(keras.layers.Dropout(0.5))\n",
    "model1.add(keras.layers.Dense(5, activation='softmax'))\n",
    "model1.compile(loss='sparse_categorical_crossentropy',\n",
    "             optimizer=keras.optimizers.Adam(learning_rate=3e-4),\n",
    "             metrics=['accuracy'])\n",
    "model1.summary()"
   ]
  },
  {
   "cell_type": "code",
   "execution_count": 126,
   "id": "6ff70dd8",
   "metadata": {
    "scrolled": true
   },
   "outputs": [
    {
     "name": "stdout",
     "output_type": "stream",
     "text": [
      "Epoch 1/50\n",
      "235/235 [==============================] - 2s 6ms/step - loss: 1.6329 - accuracy: 0.2689 - val_loss: 1.4797 - val_accuracy: 0.4424\n",
      "Epoch 2/50\n",
      "235/235 [==============================] - 1s 5ms/step - loss: 1.4945 - accuracy: 0.3572 - val_loss: 1.3684 - val_accuracy: 0.4752\n",
      "Epoch 3/50\n",
      "235/235 [==============================] - 1s 6ms/step - loss: 1.4044 - accuracy: 0.4049 - val_loss: 1.2710 - val_accuracy: 0.4836\n",
      "Epoch 4/50\n",
      "235/235 [==============================] - 1s 5ms/step - loss: 1.3523 - accuracy: 0.4197 - val_loss: 1.2299 - val_accuracy: 0.4848\n",
      "Epoch 5/50\n",
      "235/235 [==============================] - 1s 5ms/step - loss: 1.3093 - accuracy: 0.4581 - val_loss: 1.1922 - val_accuracy: 0.4988\n",
      "Epoch 6/50\n",
      "235/235 [==============================] - 1s 5ms/step - loss: 1.2635 - accuracy: 0.4671 - val_loss: 1.1647 - val_accuracy: 0.5032\n",
      "Epoch 7/50\n",
      "235/235 [==============================] - 1s 5ms/step - loss: 1.2257 - accuracy: 0.4788 - val_loss: 1.1300 - val_accuracy: 0.5212\n",
      "Epoch 8/50\n",
      "235/235 [==============================] - 1s 4ms/step - loss: 1.1852 - accuracy: 0.5092 - val_loss: 1.0898 - val_accuracy: 0.5460\n",
      "Epoch 9/50\n",
      "235/235 [==============================] - 1s 4ms/step - loss: 1.1331 - accuracy: 0.5248 - val_loss: 1.0422 - val_accuracy: 0.5628\n",
      "Epoch 10/50\n",
      "235/235 [==============================] - 1s 4ms/step - loss: 1.1055 - accuracy: 0.5388 - val_loss: 0.9958 - val_accuracy: 0.5676\n",
      "Epoch 11/50\n",
      "235/235 [==============================] - 1s 4ms/step - loss: 1.0638 - accuracy: 0.5557 - val_loss: 0.9753 - val_accuracy: 0.5780\n",
      "Epoch 12/50\n",
      "235/235 [==============================] - 1s 4ms/step - loss: 1.0200 - accuracy: 0.5740 - val_loss: 0.9136 - val_accuracy: 0.6104\n",
      "Epoch 13/50\n",
      "235/235 [==============================] - 1s 5ms/step - loss: 0.9836 - accuracy: 0.5921 - val_loss: 0.8991 - val_accuracy: 0.6124\n",
      "Epoch 14/50\n",
      "235/235 [==============================] - 1s 4ms/step - loss: 0.9737 - accuracy: 0.5945 - val_loss: 0.8772 - val_accuracy: 0.6192\n",
      "Epoch 15/50\n",
      "235/235 [==============================] - 1s 4ms/step - loss: 0.9541 - accuracy: 0.6023 - val_loss: 0.8673 - val_accuracy: 0.6300\n",
      "Epoch 16/50\n",
      "235/235 [==============================] - 1s 4ms/step - loss: 0.9257 - accuracy: 0.6153 - val_loss: 0.8528 - val_accuracy: 0.6436\n",
      "Epoch 17/50\n",
      "235/235 [==============================] - 1s 4ms/step - loss: 0.9134 - accuracy: 0.6256 - val_loss: 0.8224 - val_accuracy: 0.6628\n",
      "Epoch 18/50\n",
      "235/235 [==============================] - 1s 5ms/step - loss: 0.8884 - accuracy: 0.6369 - val_loss: 0.8110 - val_accuracy: 0.6660\n",
      "Epoch 19/50\n",
      "235/235 [==============================] - 1s 4ms/step - loss: 0.8784 - accuracy: 0.6331 - val_loss: 0.8100 - val_accuracy: 0.6640\n",
      "Epoch 20/50\n",
      "235/235 [==============================] - 1s 4ms/step - loss: 0.8559 - accuracy: 0.6497 - val_loss: 0.7880 - val_accuracy: 0.6728\n",
      "Epoch 21/50\n",
      "235/235 [==============================] - 1s 4ms/step - loss: 0.8517 - accuracy: 0.6539 - val_loss: 0.7754 - val_accuracy: 0.6832\n",
      "Epoch 22/50\n",
      "235/235 [==============================] - 1s 4ms/step - loss: 0.8275 - accuracy: 0.6655 - val_loss: 0.7986 - val_accuracy: 0.6756\n",
      "Epoch 23/50\n",
      "235/235 [==============================] - 1s 5ms/step - loss: 0.8216 - accuracy: 0.6612 - val_loss: 0.7457 - val_accuracy: 0.6992\n",
      "Epoch 24/50\n",
      "235/235 [==============================] - 1s 4ms/step - loss: 0.7974 - accuracy: 0.6783 - val_loss: 0.7455 - val_accuracy: 0.7076\n",
      "Epoch 25/50\n",
      "235/235 [==============================] - 1s 4ms/step - loss: 0.7938 - accuracy: 0.6785 - val_loss: 0.7519 - val_accuracy: 0.7124\n",
      "Epoch 26/50\n",
      "235/235 [==============================] - 1s 4ms/step - loss: 0.7896 - accuracy: 0.6827 - val_loss: 0.7316 - val_accuracy: 0.7128\n",
      "Epoch 27/50\n",
      "235/235 [==============================] - 1s 4ms/step - loss: 0.7810 - accuracy: 0.6852 - val_loss: 0.7334 - val_accuracy: 0.7108\n",
      "Epoch 28/50\n",
      "235/235 [==============================] - 1s 5ms/step - loss: 0.7580 - accuracy: 0.6885 - val_loss: 0.7406 - val_accuracy: 0.7064\n",
      "Epoch 29/50\n",
      "235/235 [==============================] - 1s 4ms/step - loss: 0.7579 - accuracy: 0.6956 - val_loss: 0.7304 - val_accuracy: 0.7044\n",
      "Epoch 30/50\n",
      "235/235 [==============================] - 1s 4ms/step - loss: 0.7585 - accuracy: 0.6948 - val_loss: 0.7132 - val_accuracy: 0.7280\n",
      "Epoch 31/50\n",
      "235/235 [==============================] - 1s 5ms/step - loss: 0.7412 - accuracy: 0.6967 - val_loss: 0.7516 - val_accuracy: 0.7108\n",
      "Epoch 32/50\n",
      "235/235 [==============================] - 1s 5ms/step - loss: 0.7331 - accuracy: 0.7025 - val_loss: 0.7028 - val_accuracy: 0.7316\n",
      "Epoch 33/50\n",
      "235/235 [==============================] - 1s 4ms/step - loss: 0.7167 - accuracy: 0.7089 - val_loss: 0.6850 - val_accuracy: 0.7400\n",
      "Epoch 34/50\n",
      "235/235 [==============================] - 1s 5ms/step - loss: 0.7084 - accuracy: 0.7124 - val_loss: 0.7050 - val_accuracy: 0.7220\n",
      "Epoch 35/50\n",
      "235/235 [==============================] - 1s 4ms/step - loss: 0.7106 - accuracy: 0.7181 - val_loss: 0.7093 - val_accuracy: 0.7232\n",
      "Epoch 36/50\n",
      "235/235 [==============================] - 1s 5ms/step - loss: 0.7004 - accuracy: 0.7124 - val_loss: 0.6835 - val_accuracy: 0.7460\n",
      "Epoch 37/50\n",
      "235/235 [==============================] - 1s 5ms/step - loss: 0.6865 - accuracy: 0.7252 - val_loss: 0.6721 - val_accuracy: 0.7428\n",
      "Epoch 38/50\n",
      "235/235 [==============================] - 1s 5ms/step - loss: 0.6760 - accuracy: 0.7316 - val_loss: 0.6672 - val_accuracy: 0.7424\n",
      "Epoch 39/50\n",
      "235/235 [==============================] - 1s 5ms/step - loss: 0.6805 - accuracy: 0.7229 - val_loss: 0.6582 - val_accuracy: 0.7556\n",
      "Epoch 40/50\n",
      "235/235 [==============================] - 1s 5ms/step - loss: 0.6606 - accuracy: 0.7357 - val_loss: 0.6755 - val_accuracy: 0.7492\n",
      "Epoch 41/50\n",
      "235/235 [==============================] - 1s 4ms/step - loss: 0.6474 - accuracy: 0.7399 - val_loss: 0.6621 - val_accuracy: 0.7564\n",
      "Epoch 42/50\n",
      "235/235 [==============================] - 1s 4ms/step - loss: 0.6558 - accuracy: 0.7339 - val_loss: 0.6630 - val_accuracy: 0.7500\n",
      "Epoch 43/50\n",
      "235/235 [==============================] - 1s 5ms/step - loss: 0.6456 - accuracy: 0.7369 - val_loss: 0.6611 - val_accuracy: 0.7512\n",
      "Epoch 44/50\n",
      "235/235 [==============================] - 1s 5ms/step - loss: 0.6404 - accuracy: 0.7395 - val_loss: 0.6573 - val_accuracy: 0.7516\n",
      "Epoch 45/50\n",
      "235/235 [==============================] - 1s 5ms/step - loss: 0.6422 - accuracy: 0.7416 - val_loss: 0.6579 - val_accuracy: 0.7492\n",
      "Epoch 46/50\n",
      "235/235 [==============================] - 1s 5ms/step - loss: 0.6254 - accuracy: 0.7540 - val_loss: 0.6623 - val_accuracy: 0.7488\n",
      "Epoch 47/50\n",
      "235/235 [==============================] - 1s 5ms/step - loss: 0.6307 - accuracy: 0.7483 - val_loss: 0.6483 - val_accuracy: 0.7572\n",
      "Epoch 48/50\n",
      "235/235 [==============================] - 1s 5ms/step - loss: 0.6160 - accuracy: 0.7511 - val_loss: 0.6656 - val_accuracy: 0.7512\n",
      "Epoch 49/50\n",
      "235/235 [==============================] - 1s 6ms/step - loss: 0.6122 - accuracy: 0.7540 - val_loss: 0.6530 - val_accuracy: 0.7612\n",
      "Epoch 50/50\n",
      "235/235 [==============================] - 1s 5ms/step - loss: 0.6040 - accuracy: 0.7589 - val_loss: 0.6538 - val_accuracy: 0.7604\n"
     ]
    }
   ],
   "source": [
    "loss = model1.fit(X_train, y_train, validation_data=(X_test, y_test), epochs=50, batch_size=32)"
   ]
  },
  {
   "cell_type": "code",
   "execution_count": 127,
   "id": "9ed3a26c",
   "metadata": {
    "scrolled": true
   },
   "outputs": [
    {
     "data": {
      "text/plain": [
       "<AxesSubplot:>"
      ]
     },
     "execution_count": 127,
     "metadata": {},
     "output_type": "execute_result"
    },
    {
     "data": {
      "image/png": "[encoded data removed]",
      "text/plain": [
       "<Figure size 432x288 with 1 Axes>"
      ]
     },
     "metadata": {
      "needs_background": "light"
     },
     "output_type": "display_data"
    }
   ],
   "source": [
    "pd.DataFrame(loss.history)[['loss','val_loss']].plot()"
   ]
  },
  {
   "cell_type": "code",
   "execution_count": 128,
   "id": "4d5400fb",
   "metadata": {},
   "outputs": [],
   "source": [
    "model1.save('model1.h5')"
   ]
  },
  {
   "cell_type": "markdown",
   "id": "a34ff473",
   "metadata": {},
   "source": [
    "# CNN"
   ]
  },
  {
   "cell_type": "markdown",
   "id": "b6efd040",
   "metadata": {},
   "source": [
    "#### 2nd try"
   ]
  },
  {
   "cell_type": "code",
   "execution_count": 129,
   "id": "70656566",
   "metadata": {},
   "outputs": [
    {
     "name": "stdout",
     "output_type": "stream",
     "text": [
      "Model: \"sequential_16\"\n",
      "_________________________________________________________________\n",
      "Layer (type)                 Output Shape              Param #   \n",
      "=================================================================\n",
      "conv2d_16 (Conv2D)           (None, 48, 48, 32)        320       \n",
      "_________________________________________________________________\n",
      "batch_normalization_24 (Batc (None, 48, 48, 32)        128       \n",
      "_________________________________________________________________\n",
      "activation_12 (Activation)   (None, 48, 48, 32)        0         \n",
      "_________________________________________________________________\n",
      "conv2d_17 (Conv2D)           (None, 46, 46, 32)        9248      \n",
      "_________________________________________________________________\n",
      "batch_normalization_25 (Batc (None, 46, 46, 32)        128       \n",
      "_________________________________________________________________\n",
      "activation_13 (Activation)   (None, 46, 46, 32)        0         \n",
      "_________________________________________________________________\n",
      "max_pooling2d_11 (MaxPooling (None, 23, 23, 32)        0         \n",
      "_________________________________________________________________\n",
      "batch_normalization_26 (Batc (None, 23, 23, 32)        128       \n",
      "_________________________________________________________________\n",
      "flatten_16 (Flatten)         (None, 16928)             0         \n",
      "_________________________________________________________________\n",
      "dense_45 (Dense)             (None, 64)                1083456   \n",
      "_________________________________________________________________\n",
      "dense_46 (Dense)             (None, 10)                650       \n",
      "=================================================================\n",
      "Total params: 1,094,058\n",
      "Trainable params: 1,093,866\n",
      "Non-trainable params: 192\n",
      "_________________________________________________________________\n"
     ]
    }
   ],
   "source": [
    "model2 = keras.models.Sequential()\n",
    "model2.add(keras.layers.Conv2D(32, kernel_size=(3, 3), activation='relu', input_shape=[50, 50, 1]))\n",
    "model2.add(keras.layers.BatchNormalization(axis=-1))   # Axis -1 is always the features axis\n",
    "model2.add(keras.layers.Activation(\"relu\"))\n",
    "model2.add(keras.layers.Conv2D(32, kernel_size=(3, 3), activation='relu'))\n",
    "model2.add(keras.layers.BatchNormalization(axis=-1))\n",
    "model2.add(keras.layers.Activation(\"relu\"))\n",
    "model2.add(keras.layers.MaxPooling2D(pool_size=(2, 2)))\n",
    "model2.add(keras.layers.BatchNormalization(axis=-1))\n",
    "model2.add(keras.layers.Flatten())\n",
    "model2.add(keras.layers.Dense(64, activation='relu'))\n",
    "model2.add(keras.layers.Dense(10, activation='softmax'))\n",
    "\n",
    "model2.compile(loss=\"sparse_categorical_crossentropy\",\n",
    "              optimizer=keras.optimizers.Adam(learning_rate=3e-4),\n",
    "              metrics=[\"accuracy\"])\n",
    "model2.summary()"
   ]
  },
  {
   "cell_type": "code",
   "execution_count": 130,
   "id": "b02079d0",
   "metadata": {
    "scrolled": true
   },
   "outputs": [
    {
     "name": "stdout",
     "output_type": "stream",
     "text": [
      "Epoch 1/20\n",
      "235/235 [==============================] - 4s 13ms/step - loss: 1.1283 - accuracy: 0.5765 - val_loss: 4.0916 - val_accuracy: 0.1896\n",
      "Epoch 2/20\n",
      "235/235 [==============================] - 3s 12ms/step - loss: 0.4299 - accuracy: 0.8589 - val_loss: 4.5867 - val_accuracy: 0.2824\n",
      "Epoch 3/20\n",
      "235/235 [==============================] - 3s 12ms/step - loss: 0.2161 - accuracy: 0.9419 - val_loss: 0.9264 - val_accuracy: 0.6116\n",
      "Epoch 4/20\n",
      "235/235 [==============================] - 3s 12ms/step - loss: 0.1177 - accuracy: 0.9696 - val_loss: 0.3873 - val_accuracy: 0.8788\n",
      "Epoch 5/20\n",
      "235/235 [==============================] - 3s 12ms/step - loss: 0.0708 - accuracy: 0.9823 - val_loss: 0.3256 - val_accuracy: 0.9116\n",
      "Epoch 6/20\n",
      "235/235 [==============================] - 3s 11ms/step - loss: 0.0348 - accuracy: 0.9936 - val_loss: 0.2920 - val_accuracy: 0.9284\n",
      "Epoch 7/20\n",
      "235/235 [==============================] - 3s 12ms/step - loss: 0.0189 - accuracy: 0.9964 - val_loss: 0.3847 - val_accuracy: 0.8960\n",
      "Epoch 8/20\n",
      "235/235 [==============================] - 3s 12ms/step - loss: 0.0154 - accuracy: 0.9973 - val_loss: 0.2874 - val_accuracy: 0.9384\n",
      "Epoch 9/20\n",
      "235/235 [==============================] - 3s 11ms/step - loss: 0.0059 - accuracy: 0.9995 - val_loss: 0.2877 - val_accuracy: 0.9436\n",
      "Epoch 10/20\n",
      "235/235 [==============================] - 3s 12ms/step - loss: 0.0030 - accuracy: 0.9999 - val_loss: 0.2989 - val_accuracy: 0.9420\n",
      "Epoch 11/20\n",
      "235/235 [==============================] - 3s 12ms/step - loss: 0.0022 - accuracy: 0.9999 - val_loss: 0.2943 - val_accuracy: 0.9472\n",
      "Epoch 12/20\n",
      "235/235 [==============================] - 3s 12ms/step - loss: 0.0015 - accuracy: 1.0000 - val_loss: 0.3028 - val_accuracy: 0.9444\n",
      "Epoch 13/20\n",
      "235/235 [==============================] - 3s 11ms/step - loss: 0.0037 - accuracy: 0.9991 - val_loss: 0.4815 - val_accuracy: 0.8824\n",
      "Epoch 14/20\n",
      "235/235 [==============================] - 3s 12ms/step - loss: 0.0482 - accuracy: 0.9867 - val_loss: 0.5069 - val_accuracy: 0.8788\n",
      "Epoch 15/20\n",
      "235/235 [==============================] - 3s 12ms/step - loss: 0.0693 - accuracy: 0.9784 - val_loss: 0.4304 - val_accuracy: 0.9032\n",
      "Epoch 16/20\n",
      "235/235 [==============================] - 3s 12ms/step - loss: 0.0287 - accuracy: 0.9923 - val_loss: 0.3748 - val_accuracy: 0.9312\n",
      "Epoch 17/20\n",
      "235/235 [==============================] - 3s 12ms/step - loss: 0.0128 - accuracy: 0.9967 - val_loss: 0.3460 - val_accuracy: 0.9440\n",
      "Epoch 18/20\n",
      "235/235 [==============================] - 3s 12ms/step - loss: 0.0051 - accuracy: 0.9993 - val_loss: 0.3685 - val_accuracy: 0.9536\n",
      "Epoch 19/20\n",
      "235/235 [==============================] - 3s 12ms/step - loss: 0.0029 - accuracy: 0.9996 - val_loss: 0.3962 - val_accuracy: 0.9480\n",
      "Epoch 20/20\n",
      "235/235 [==============================] - 3s 12ms/step - loss: 8.2627e-04 - accuracy: 0.9999 - val_loss: 0.3664 - val_accuracy: 0.9544\n"
     ]
    }
   ],
   "source": [
    "loss = model2.fit(X_train, y_train, validation_data=(X_test, y_test), epochs=20, batch_size=32)"
   ]
  },
  {
   "cell_type": "code",
   "execution_count": 131,
   "id": "f28388d1",
   "metadata": {},
   "outputs": [
    {
     "data": {
      "text/plain": [
       "<AxesSubplot:>"
      ]
     },
     "execution_count": 131,
     "metadata": {},
     "output_type": "execute_result"
    },
    {
     "data": {
      "image/png": "[encoded data removed]",
      "text/plain": [
       "<Figure size 432x288 with 1 Axes>"
      ]
     },
     "metadata": {
      "needs_background": "light"
     },
     "output_type": "display_data"
    }
   ],
   "source": [
    "pd.DataFrame(loss.history)[['loss','val_loss']].plot()"
   ]
  },
  {
   "cell_type": "code",
   "execution_count": 132,
   "id": "e3cb137e",
   "metadata": {},
   "outputs": [],
   "source": [
    "model2.save('model2.h5')"
   ]
  },
  {
   "cell_type": "markdown",
   "id": "cc540a81",
   "metadata": {},
   "source": [
    "Pasiektas rezultatatas žymiai geresnis, nei su DNN. Pridedu papipildomų Dense sluoksnių ir MaxPooling2D stengdamasi sumažinti overfit tikimybę\\\n",
    "MaxPooling - mažina įvestį, sumažinant erdvinius matmenis, t.y. pagreitėja procesas"
   ]
  },
  {
   "cell_type": "markdown",
   "id": "fb5e966e",
   "metadata": {},
   "source": [
    "#### 3rd try"
   ]
  },
  {
   "cell_type": "code",
   "execution_count": 133,
   "id": "3b7b8046",
   "metadata": {},
   "outputs": [
    {
     "name": "stdout",
     "output_type": "stream",
     "text": [
      "Model: \"sequential_17\"\n",
      "_________________________________________________________________\n",
      "Layer (type)                 Output Shape              Param #   \n",
      "=================================================================\n",
      "conv2d_18 (Conv2D)           (None, 48, 48, 32)        320       \n",
      "_________________________________________________________________\n",
      "batch_normalization_27 (Batc (None, 48, 48, 32)        128       \n",
      "_________________________________________________________________\n",
      "max_pooling2d_12 (MaxPooling (None, 24, 24, 32)        0         \n",
      "_________________________________________________________________\n",
      "conv2d_19 (Conv2D)           (None, 22, 22, 32)        9248      \n",
      "_________________________________________________________________\n",
      "batch_normalization_28 (Batc (None, 22, 22, 32)        128       \n",
      "_________________________________________________________________\n",
      "max_pooling2d_13 (MaxPooling (None, 11, 11, 32)        0         \n",
      "_________________________________________________________________\n",
      "batch_normalization_29 (Batc (None, 11, 11, 32)        128       \n",
      "_________________________________________________________________\n",
      "flatten_17 (Flatten)         (None, 3872)              0         \n",
      "_________________________________________________________________\n",
      "dense_47 (Dense)             (None, 64)                247872    \n",
      "_________________________________________________________________\n",
      "dense_48 (Dense)             (None, 32)                2080      \n",
      "_________________________________________________________________\n",
      "dense_49 (Dense)             (None, 8)                 264       \n",
      "=================================================================\n",
      "Total params: 260,168\n",
      "Trainable params: 259,976\n",
      "Non-trainable params: 192\n",
      "_________________________________________________________________\n"
     ]
    }
   ],
   "source": [
    "model3 = keras.models.Sequential()\n",
    "model3.add(keras.layers.Conv2D(32, kernel_size=(3, 3), activation='relu', input_shape=[50, 50, 1]))\n",
    "model3.add(keras.layers.BatchNormalization(axis=-1))   # Axis -1 is always the features axis\n",
    "model3.add(keras.layers.MaxPooling2D(pool_size=(2, 2)))\n",
    "model3.add(keras.layers.Conv2D(32, kernel_size=(3, 3), activation='relu'))\n",
    "model3.add(keras.layers.BatchNormalization(axis=-1))\n",
    "model3.add(keras.layers.MaxPooling2D(pool_size=(2, 2)))\n",
    "model3.add(keras.layers.BatchNormalization(axis=-1))\n",
    "model3.add(keras.layers.Flatten())\n",
    "model3.add(keras.layers.Dense(64, activation='relu'))\n",
    "model3.add(keras.layers.Dense(32, activation='relu'))\n",
    "model3.add(keras.layers.Dense(8, activation='softmax'))\n",
    "\n",
    "model3.compile(loss=\"sparse_categorical_crossentropy\",\n",
    "              optimizer=keras.optimizers.Adam(learning_rate=3e-4),\n",
    "              metrics=[\"accuracy\"])\n",
    "model3.summary()"
   ]
  },
  {
   "cell_type": "code",
   "execution_count": 134,
   "id": "f4b75d00",
   "metadata": {
    "scrolled": true
   },
   "outputs": [
    {
     "name": "stdout",
     "output_type": "stream",
     "text": [
      "Epoch 1/25\n",
      "235/235 [==============================] - 3s 9ms/step - loss: 1.1043 - accuracy: 0.5772 - val_loss: 2.3435 - val_accuracy: 0.2128\n",
      "Epoch 2/25\n",
      "235/235 [==============================] - 2s 8ms/step - loss: 0.5344 - accuracy: 0.8101 - val_loss: 3.2128 - val_accuracy: 0.2100\n",
      "Epoch 3/25\n",
      "235/235 [==============================] - 2s 8ms/step - loss: 0.3000 - accuracy: 0.9101 - val_loss: 1.5658 - val_accuracy: 0.4416\n",
      "Epoch 4/25\n",
      "235/235 [==============================] - 2s 8ms/step - loss: 0.1739 - accuracy: 0.9592 - val_loss: 0.3160 - val_accuracy: 0.9084\n",
      "Epoch 5/25\n",
      "235/235 [==============================] - 2s 8ms/step - loss: 0.1161 - accuracy: 0.9743 - val_loss: 0.2385 - val_accuracy: 0.9472\n",
      "Epoch 6/25\n",
      "235/235 [==============================] - 2s 8ms/step - loss: 0.0713 - accuracy: 0.9857 - val_loss: 0.3168 - val_accuracy: 0.9052\n",
      "Epoch 7/25\n",
      "235/235 [==============================] - 2s 8ms/step - loss: 0.0491 - accuracy: 0.9893 - val_loss: 0.2463 - val_accuracy: 0.9400\n",
      "Epoch 8/25\n",
      "235/235 [==============================] - 2s 8ms/step - loss: 0.0336 - accuracy: 0.9931 - val_loss: 0.2075 - val_accuracy: 0.9580\n",
      "Epoch 9/25\n",
      "235/235 [==============================] - 2s 8ms/step - loss: 0.0234 - accuracy: 0.9956 - val_loss: 0.2107 - val_accuracy: 0.9620\n",
      "Epoch 10/25\n",
      "235/235 [==============================] - 2s 8ms/step - loss: 0.0116 - accuracy: 0.9987 - val_loss: 0.2164 - val_accuracy: 0.9672\n",
      "Epoch 11/25\n",
      "235/235 [==============================] - 2s 8ms/step - loss: 0.0112 - accuracy: 0.9983 - val_loss: 0.3197 - val_accuracy: 0.9284\n",
      "Epoch 12/25\n",
      "235/235 [==============================] - 2s 8ms/step - loss: 0.0232 - accuracy: 0.9940 - val_loss: 0.2475 - val_accuracy: 0.9512\n",
      "Epoch 13/25\n",
      "235/235 [==============================] - 2s 8ms/step - loss: 0.0121 - accuracy: 0.9971 - val_loss: 0.2444 - val_accuracy: 0.9592\n",
      "Epoch 14/25\n",
      "235/235 [==============================] - 2s 8ms/step - loss: 0.0079 - accuracy: 0.9988 - val_loss: 0.2330 - val_accuracy: 0.9684\n",
      "Epoch 15/25\n",
      "235/235 [==============================] - 2s 8ms/step - loss: 0.0142 - accuracy: 0.9956 - val_loss: 0.2753 - val_accuracy: 0.9528\n",
      "Epoch 16/25\n",
      "235/235 [==============================] - 2s 8ms/step - loss: 0.0064 - accuracy: 0.9988 - val_loss: 0.2720 - val_accuracy: 0.9640\n",
      "Epoch 17/25\n",
      "235/235 [==============================] - 2s 8ms/step - loss: 0.0205 - accuracy: 0.9943 - val_loss: 0.3044 - val_accuracy: 0.9464\n",
      "Epoch 18/25\n",
      "235/235 [==============================] - 2s 8ms/step - loss: 0.0241 - accuracy: 0.9929 - val_loss: 0.2699 - val_accuracy: 0.9572\n",
      "Epoch 19/25\n",
      "235/235 [==============================] - 2s 8ms/step - loss: 0.0158 - accuracy: 0.9953 - val_loss: 0.2454 - val_accuracy: 0.9664\n",
      "Epoch 20/25\n",
      "235/235 [==============================] - 2s 8ms/step - loss: 0.0076 - accuracy: 0.9983 - val_loss: 0.2684 - val_accuracy: 0.9688\n",
      "Epoch 21/25\n",
      "235/235 [==============================] - 2s 8ms/step - loss: 0.0036 - accuracy: 0.9992 - val_loss: 0.2621 - val_accuracy: 0.9676\n",
      "Epoch 22/25\n",
      "235/235 [==============================] - 2s 8ms/step - loss: 0.0012 - accuracy: 0.9999 - val_loss: 0.2642 - val_accuracy: 0.9708\n",
      "Epoch 23/25\n",
      "235/235 [==============================] - 2s 8ms/step - loss: 0.0010 - accuracy: 0.9999 - val_loss: 0.2652 - val_accuracy: 0.9732\n",
      "Epoch 24/25\n",
      "235/235 [==============================] - 2s 8ms/step - loss: 9.3673e-04 - accuracy: 0.9999 - val_loss: 0.2763 - val_accuracy: 0.9704\n",
      "Epoch 25/25\n",
      "235/235 [==============================] - 2s 8ms/step - loss: 0.0028 - accuracy: 0.9993 - val_loss: 0.2584 - val_accuracy: 0.9724\n"
     ]
    }
   ],
   "source": [
    "loss = model3.fit(X_train, y_train, validation_data=(X_test, y_test), epochs=25, batch_size=32)"
   ]
  },
  {
   "cell_type": "code",
   "execution_count": 135,
   "id": "83fa730b",
   "metadata": {},
   "outputs": [
    {
     "data": {
      "text/plain": [
       "<AxesSubplot:>"
      ]
     },
     "execution_count": 135,
     "metadata": {},
     "output_type": "execute_result"
    },
    {
     "data": {
      "image/png": "[encoded data removed]",
      "text/plain": [
       "<Figure size 432x288 with 1 Axes>"
      ]
     },
     "metadata": {
      "needs_background": "light"
     },
     "output_type": "display_data"
    }
   ],
   "source": [
    "pd.DataFrame(loss.history)[['loss','val_loss']].plot()"
   ]
  },
  {
   "cell_type": "code",
   "execution_count": 136,
   "id": "0d8ac15d",
   "metadata": {},
   "outputs": [],
   "source": [
    "model3.save('model3.h5')"
   ]
  },
  {
   "cell_type": "markdown",
   "id": "521cebc6",
   "metadata": {},
   "source": [
    "## Testing models"
   ]
  },
  {
   "cell_type": "code",
   "execution_count": 137,
   "id": "f4cac519",
   "metadata": {},
   "outputs": [],
   "source": [
    "def evaluate(path, model):\n",
    "    X, y = pickle.load(gzip.open(path, 'rb'))\n",
    "    y[y != 0] -= 2\n",
    "    X = X / 255\n",
    "    acc = np.mean(model(X).numpy().argmax(axis=1) == y)\n",
    "    return acc"
   ]
  },
  {
   "cell_type": "code",
   "execution_count": 138,
   "id": "9aceeadc",
   "metadata": {},
   "outputs": [
    {
     "data": {
      "text/plain": [
       "0.6566"
      ]
     },
     "execution_count": 138,
     "metadata": {},
     "output_type": "execute_result"
    }
   ],
   "source": [
    "model = keras.models.load_model('model.h5')\n",
    "evaluate('flatland_train.data', model)"
   ]
  },
  {
   "cell_type": "code",
   "execution_count": 139,
   "id": "a30963b0",
   "metadata": {},
   "outputs": [
    {
     "data": {
      "text/plain": [
       "0.8146"
      ]
     },
     "execution_count": 139,
     "metadata": {},
     "output_type": "execute_result"
    }
   ],
   "source": [
    "model1 = keras.models.load_model('model1.h5')\n",
    "evaluate('flatland_train.data', model1)"
   ]
  },
  {
   "cell_type": "code",
   "execution_count": 140,
   "id": "13ab175e",
   "metadata": {},
   "outputs": [
    {
     "name": "stdout",
     "output_type": "stream",
     "text": [
      "Accuracy on train set - 98.86%\n"
     ]
    }
   ],
   "source": [
    "pred = model2.predict(X).argmax(axis=1)\n",
    "print('Accuracy on train set - {0:.02%}'.format((pred == y).mean()))"
   ]
  },
  {
   "cell_type": "code",
   "execution_count": 141,
   "id": "898c4c2c",
   "metadata": {},
   "outputs": [
    {
     "name": "stdout",
     "output_type": "stream",
     "text": [
      "Accuracy on train set - 99.29%\n"
     ]
    }
   ],
   "source": [
    "pred = model3.predict(X).argmax(axis=1)\n",
    "print('Accuracy on train set - {0:.02%}'.format((pred == y).mean()))"
   ]
  },
  {
   "cell_type": "markdown",
   "id": "3384a86a",
   "metadata": {},
   "source": [
    "Pastebiu, kad žymiai geresni rezultatai buvo pasiekti su CNN, tačiau nepavyko pasiekti labai gero val_loss, kokį loss pavyko pasiekti ant train set'o"
   ]
  }
 ],
 "metadata": {
  "kernelspec": {
   "display_name": "Python 3 (ipykernel)",
   "language": "python",
   "name": "python3"
  },
  "language_info": {
   "codemirror_mode": {
    "name": "ipython",
    "version": 3
   },
   "file_extension": ".py",
   "mimetype": "text/x-python",
   "name": "python",
   "nbconvert_exporter": "python",
   "pygments_lexer": "ipython3",
   "version": "3.8.10"
  }
 },
 "nbformat": 4,
 "nbformat_minor": 5
}
